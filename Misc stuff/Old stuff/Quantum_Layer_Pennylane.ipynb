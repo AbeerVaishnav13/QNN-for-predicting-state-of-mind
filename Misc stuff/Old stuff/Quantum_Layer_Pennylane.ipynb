{
 "cells": [
  {
   "cell_type": "code",
   "execution_count": 51,
   "metadata": {},
   "outputs": [],
   "source": [
    "import pennylane as qml\n",
    "from pennylane import numpy as np\n",
    "from pennylane.optimize import AdamOptimizer\n",
    "import pandas as pd\n",
    "import matplotlib.pyplot as plt\n",
    "from matplotlib import style\n",
    "\n",
    "style.use('bmh')\n",
    "style.use('dark_background')"
   ]
  },
  {
   "cell_type": "markdown",
   "metadata": {},
   "source": [
    "## Loading tha manipulation of data"
   ]
  },
  {
   "cell_type": "code",
   "execution_count": 52,
   "metadata": {},
   "outputs": [
    {
     "data": {
      "text/plain": [
       "array([['Ankur_sir_6', 0.5116529233737879, 2.661255444814941, ..., 0.0,\n",
       "        0.0, 'Like'],\n",
       "       ['Sandeep_32', -0.9532752329297408, -4.419225848654918, ..., 0.0,\n",
       "        0.0, 'Disike'],\n",
       "       ['mahendra_28', -0.4930886480644289, -1.5454615508228926, ...,\n",
       "        0.0, 0.0, 'Like'],\n",
       "       ...,\n",
       "       ['mahendra_5', -1.9427615337039161, -12.76711513386849, ..., 0.0,\n",
       "        0.0, 'Like'],\n",
       "       ['taufiq_10', -0.34627782376502125, -1.75569285697388, ..., 0.0,\n",
       "        0.0, 'Disike'],\n",
       "       ['Vijay_32', 0.42956267802355796, 2.191135723676666, ..., 0.0,\n",
       "        0.0, 'Disike']], dtype=object)"
      ]
     },
     "execution_count": 52,
     "metadata": {},
     "output_type": "execute_result"
    }
   ],
   "source": [
    "data = np.asanyarray(pd.read_csv('./LabelledTheta.csv', delimiter=',', header=None))\n",
    "\n",
    "NUM_CHANNELS = 14\n",
    "ACTUAL_VALUES = 38\n",
    "CONST_VALUES = 64 - 38\n",
    "NUM_THETA_VALUES_PER_CHANNEL = ACTUAL_VALUES + CONST_VALUES\n",
    "NUM_QUBITS = 6\n",
    "\n",
    "data"
   ]
  },
  {
   "cell_type": "code",
   "execution_count": 53,
   "metadata": {},
   "outputs": [],
   "source": [
    "def normalize(X_data):\n",
    "    for i in range(len(X_data)):\n",
    "        mu = X_data[i].mean()\n",
    "        sigma = X_data[i].std()\n",
    "\n",
    "        X_data[i] = (X_data[i] - mu) / sigma\n",
    "\n",
    "        for j in range(NUM_CHANNELS):\n",
    "              for k in range(NUM_THETA_VALUES_PER_CHANNEL):\n",
    "                idx = j * NUM_THETA_VALUES_PER_CHANNEL + k\n",
    "                if X_data[i][idx] > 2:\n",
    "                    X_data[i][idx] = 2\n",
    "                elif X_data[i][idx] < -2:\n",
    "                    X_data[i][idx] = -2\n",
    "\n",
    "                if k >= ACTUAL_VALUES:\n",
    "                    X_data[i][idx] = -2.5\n",
    "\n",
    "        X_data[i] = ((X_data[i] / 5) + 0.5)\n",
    "            \n",
    "    return X_data"
   ]
  },
  {
   "cell_type": "code",
   "execution_count": 54,
   "metadata": {},
   "outputs": [],
   "source": [
    "# TODO: change the function for different encoding\n",
    "def get_angles(X_data):\n",
    "    X_angles = []\n",
    "    for i in range(len(X_data)):\n",
    "        X_i = []\n",
    "        for j in range(NUM_CHANNELS):\n",
    "            for q in range(NUM_QUBITS):\n",
    "                probab_sum = 0.0\n",
    "                for k in range(NUM_THETA_VALUES_PER_CHANNEL):\n",
    "                    idx = j * NUM_THETA_VALUES_PER_CHANNEL + k\n",
    "\n",
    "                    if k & (0x1 << q):\n",
    "                        probab_sum += X_data[i][idx]\n",
    "\n",
    "                X_i.append(2 * np.arcsin(np.sqrt(probab_sum)))\n",
    "\n",
    "        X_angles.append(np.array(X_i))\n",
    "\n",
    "    return X_angles"
   ]
  },
  {
   "cell_type": "code",
   "execution_count": 55,
   "metadata": {},
   "outputs": [],
   "source": [
    "def convert_to_probability(X_data):\n",
    "    X_data_probab = []\n",
    "    for i in range(len(X_data)):\n",
    "        X_i = []\n",
    "        for j in range(NUM_CHANNELS):\n",
    "            channel_j = []\n",
    "            for k in range(NUM_THETA_VALUES_PER_CHANNEL):\n",
    "                idx = j * NUM_THETA_VALUES_PER_CHANNEL + k\n",
    "                channel_j.append(X_data[i][idx])\n",
    "\n",
    "            total_ch_j = sum(channel_j)\n",
    "            channel_j = np.array(channel_j) / total_ch_j\n",
    "\n",
    "            for k in range(NUM_THETA_VALUES_PER_CHANNEL):\n",
    "                X_i.append(channel_j[k])\n",
    "    \n",
    "        X_data_probab.append(np.array(X_i))\n",
    "\n",
    "    return X_data_probab"
   ]
  },
  {
   "cell_type": "code",
   "execution_count": 56,
   "metadata": {},
   "outputs": [],
   "source": [
    "def arrange_channelwise(X_data):\n",
    "    X_data_channelwise = []\n",
    "    for i in range(NUM_CHANNELS):\n",
    "        X_i = []\n",
    "        for j in range(len(X_data)):\n",
    "            X_j = []\n",
    "            for k in range(NUM_QUBITS):\n",
    "                idx = i * NUM_QUBITS + k\n",
    "                X_j.append(X_data[j][idx])\n",
    "                \n",
    "            X_i.append(np.array(X_j))\n",
    "            \n",
    "        X_data_channelwise.append(np.array(X_i))\n",
    "        \n",
    "    return X_data_channelwise"
   ]
  },
  {
   "cell_type": "code",
   "execution_count": 60,
   "metadata": {},
   "outputs": [
    {
     "name": "stdout",
     "output_type": "stream",
     "text": [
      "[286   6 566 ...  69 821 207] 1045\n"
     ]
    }
   ],
   "source": [
    "X = []\n",
    "Y = []\n",
    "for i in range(len(data)):\n",
    "    X.append(data[i][1:-1])\n",
    "    Y.append(data[i][-1])\n",
    "    \n",
    "index = np.random.permutation(range(len(X)))\n",
    "print(index, len(index))\n",
    "    \n",
    "X_norm = normalize(X)\n",
    "X_probab = convert_to_probability(X_norm)\n",
    "X_ang = np.array(get_angles(X_probab))[index[:100]]"
   ]
  },
  {
   "cell_type": "code",
   "execution_count": 61,
   "metadata": {},
   "outputs": [
    {
     "name": "stdout",
     "output_type": "stream",
     "text": [
      "<class 'numpy.ndarray'> <class 'numpy.ndarray'>\n",
      "100 84\n"
     ]
    }
   ],
   "source": [
    "print(type(X_ang), type(X_ang[0]))\n",
    "print(len(X_ang), len(X_ang[0]))"
   ]
  },
  {
   "cell_type": "code",
   "execution_count": 62,
   "metadata": {},
   "outputs": [
    {
     "name": "stdout",
     "output_type": "stream",
     "text": [
      "14 100 6\n"
     ]
    }
   ],
   "source": [
    "X_chwise = arrange_channelwise(X_ang)\n",
    "Y_bin = np.array([1 if y == 'Like' else -1 for y in Y])\n",
    "\n",
    "print(len(X_chwise), len(X_chwise[0]), len(X_chwise[0][0]))"
   ]
  },
  {
   "cell_type": "code",
   "execution_count": 63,
   "metadata": {},
   "outputs": [],
   "source": [
    "train_idxs = int(len(X_ang)*0.7)+1\n",
    "test_idxs = int(train_idxs + len(X_ang)*0.2)\n",
    "\n",
    "X_train = X_ang[:train_idxs]\n",
    "Y_train = Y_bin[:train_idxs]\n",
    "\n",
    "X_test = X_ang[train_idxs:test_idxs]\n",
    "Y_test = Y_bin[train_idxs:test_idxs]\n",
    "\n",
    "X_val = X_ang[test_idxs:]\n",
    "Y_val = Y_bin[test_idxs:]"
   ]
  },
  {
   "cell_type": "code",
   "execution_count": 64,
   "metadata": {},
   "outputs": [
    {
     "name": "stdout",
     "output_type": "stream",
     "text": [
      "14 71\n",
      "14 20\n",
      "14 9\n"
     ]
    }
   ],
   "source": [
    "X_train_chwise = arrange_channelwise(X_train)\n",
    "X_test_chwise = arrange_channelwise(X_test)\n",
    "X_val_chwise = arrange_channelwise(X_val)\n",
    "\n",
    "print(len(X_train_chwise), len(X_train_chwise[0]))\n",
    "print(len(X_test_chwise), len(X_test_chwise[0]))\n",
    "print(len(X_val_chwise), len(X_val_chwise[0]))"
   ]
  },
  {
   "cell_type": "markdown",
   "metadata": {},
   "source": [
    "## Creating the quantum network"
   ]
  },
  {
   "cell_type": "code",
   "execution_count": 65,
   "metadata": {},
   "outputs": [],
   "source": [
    "def layer(W, num_wires):\n",
    "    for i in range(num_wires):\n",
    "        qml.Rot(W[i, 0], W[i, 1], W[i, 2], wires=i)\n",
    "        \n",
    "    for j in range(num_wires):\n",
    "        if j != num_wires-1:\n",
    "            qml.CNOT(wires=[j, j+1])\n",
    "        else:\n",
    "            qml.CNOT(wires=[j, 0])"
   ]
  },
  {
   "cell_type": "code",
   "execution_count": 66,
   "metadata": {},
   "outputs": [],
   "source": [
    "def statePreparation(a):\n",
    "    for i in range(len(a)):\n",
    "        qml.RY(a[i], wires=i)\n",
    "        qml.Hadamard(wires=i)\n",
    "        if i == 5:\n",
    "            qml.CZ(wires=[i, 0])\n",
    "        else:\n",
    "            qml.CZ(wires=[i, i+1])"
   ]
  },
  {
   "cell_type": "code",
   "execution_count": 67,
   "metadata": {},
   "outputs": [],
   "source": [
    "dev = qml.device('default.qubit', wires=NUM_QUBITS)\n",
    "\n",
    "@qml.qnode(dev)\n",
    "def circuit(weights, angles):\n",
    "    statePreparation(angles)\n",
    "    \n",
    "    for W in weights:\n",
    "        layer(W, NUM_QUBITS)\n",
    "        \n",
    "    return qml.expval(qml.PauliZ(0))"
   ]
  },
  {
   "cell_type": "markdown",
   "metadata": {},
   "source": [
    "## Some helper functions"
   ]
  },
  {
   "cell_type": "code",
   "execution_count": 68,
   "metadata": {},
   "outputs": [],
   "source": [
    "def square_loss(labels, predictions):\n",
    "    loss = 0\n",
    "    for l, p in zip(labels, predictions):\n",
    "        loss += ((l - p)**2)\n",
    "        \n",
    "    loss /= len(labels)\n",
    "    return loss\n",
    "\n",
    "################################################################################################\n",
    "def accuracy(labels, predictions):\n",
    "    loss = 0\n",
    "    for l, p in zip(labels, predictions):\n",
    "        if abs(l - p) < 1e-5:\n",
    "            loss += 1\n",
    "            \n",
    "    loss /= len(labels)\n",
    "    return loss"
   ]
  },
  {
   "cell_type": "markdown",
   "metadata": {},
   "source": [
    "## Building the variational classifier"
   ]
  },
  {
   "cell_type": "code",
   "execution_count": 69,
   "metadata": {},
   "outputs": [],
   "source": [
    "def variational_classifier(var, ang=None):\n",
    "    weights = var[0]\n",
    "    bias = var[1]\n",
    "    return circuit(weights, ang) + bias"
   ]
  },
  {
   "cell_type": "code",
   "execution_count": 70,
   "metadata": {},
   "outputs": [],
   "source": [
    "def cost(weights, features, labels):\n",
    "    predictions = [variational_classifier(weights, f) for f in features]\n",
    "    return square_loss(labels, predictions)"
   ]
  },
  {
   "cell_type": "markdown",
   "metadata": {},
   "source": [
    "## Fitting the model"
   ]
  },
  {
   "cell_type": "code",
   "execution_count": 71,
   "metadata": {},
   "outputs": [],
   "source": [
    "NUM_LAYERS = 10\n",
    "bias = 0.03\n",
    "var_init = (0.01 * np.random.randn(NUM_LAYERS, NUM_QUBITS, 3), bias)"
   ]
  },
  {
   "cell_type": "code",
   "execution_count": 72,
   "metadata": {},
   "outputs": [],
   "source": [
    "optimizer = AdamOptimizer(0.9)\n",
    "Batch_Size = 2\n",
    "\n",
    "def fit_model(x, y, init_weights, batch_size, epochs, opt, validation_data, cost_calc_data):\n",
    "    var = init_weights\n",
    "    history = {'cost':[], 'acc_train':[], 'acc_val':[], 'iter_history':[]}\n",
    "    \n",
    "    for e in range(epochs):\n",
    "        history['iter_history'].append({'cost':[], 'acc_train':[], 'acc_val':[]})\n",
    "        print(\"EPOCH: \", e+1)\n",
    "        for it in range(10):\n",
    "            # Update the weights by one optimizer step\n",
    "            batch_index = np.random.randint(0, train_idxs, (batch_size,))\n",
    "            X_train_batch = x[batch_index]\n",
    "            Y_train_batch = y[batch_index]\n",
    "            var = opt.step(lambda v: cost(v, X_train_batch, Y_train_batch), var)\n",
    "\n",
    "            # Compute predictions on train and validation set\n",
    "            print('Train iter: ', it+1, end='\\t')\n",
    "            predictions_train = [np.sign(variational_classifier(var, f)) for f in x]\n",
    "            print('Test iter: ', it+1, end='\\t')\n",
    "            predictions_val = [np.sign(variational_classifier(var, f)) for f in validation_data[0]]\n",
    "            \n",
    "            \n",
    "            # Compute accuracy on train and validation set\n",
    "            history['iter_history'][e]['acc_train'].append(accuracy(y, predictions_train))\n",
    "            history['iter_history'][e]['acc_val'].append(accuracy(validation_data[1], predictions_val))\n",
    "            history['iter_history'][e]['cost'].append(cost(var, cost_calc_data[0], cost_calc_data[1]))\n",
    "            \n",
    "            # Print iter-wise value\n",
    "            print(\n",
    "                \"Iter: {:5d} | Cost: {:0.7f} | Acc train: {:0.7f} | Acc validation: {:0.7f} \"\n",
    "                \"\".format(it + 1, history['iter_history'][e]['cost'][-1], history['iter_history'][e]['acc_train'][-1],\n",
    "                history['iter_history'][e]['acc_val'][-1])\n",
    "            )\n",
    "        \n",
    "        # Store parameters for later use\n",
    "        history['acc_train'].append(sum(history['iter_history'][e]['acc_train'])/10)\n",
    "        history['acc_val'].append(sum(history['iter_history'][e]['acc_val'])/10)\n",
    "        history['cost'].append(sum(history['iter_history'][e]['cost'])/10)\n",
    "\n",
    "        print(\n",
    "            \"\\n\\nEpoch: {:5d} | Cost: {:0.7f} | Acc train: {:0.7f} | Acc validation: {:0.7f} \"\n",
    "            \"\".format(e + 1, history['cost'][-1], history['acc_train'][-1], history['acc_val'][-1])\n",
    "        )\n",
    "        \n",
    "        return history"
   ]
  },
  {
   "cell_type": "code",
   "execution_count": 73,
   "metadata": {},
   "outputs": [
    {
     "name": "stdout",
     "output_type": "stream",
     "text": [
      "EPOCH:  1\n",
      "Train iter:  1\tTest iter:  1\tIter:     1 | Cost: 0.1753634 | Acc train: 0.5352113 | Acc validation: 0.5500000 \n",
      "Train iter:  2\tTest iter:  2\tIter:     2 | Cost: 0.3210243 | Acc train: 0.5352113 | Acc validation: 0.5500000 \n",
      "Train iter:  3\tTest iter:  3\tIter:     3 | Cost: 0.3482852 | Acc train: 0.5352113 | Acc validation: 0.5500000 \n",
      "Train iter:  4\tTest iter:  4\tIter:     4 | Cost: 0.4027804 | Acc train: 0.5352113 | Acc validation: 0.5500000 \n",
      "Train iter:  5\tTest iter:  5\tIter:     5 | Cost: 0.4379331 | Acc train: 0.5352113 | Acc validation: 0.5500000 \n",
      "Train iter:  6\tTest iter:  6\tIter:     6 | Cost: 0.4628547 | Acc train: 0.5352113 | Acc validation: 0.5500000 \n",
      "Train iter:  7\tTest iter:  7\tIter:     7 | Cost: 0.4567560 | Acc train: 0.5352113 | Acc validation: 0.5500000 \n",
      "Train iter:  8\tTest iter:  8\tIter:     8 | Cost: 0.4541911 | Acc train: 0.5352113 | Acc validation: 0.5500000 \n",
      "Train iter:  9\tTest iter:  9\tIter:     9 | Cost: 0.2552278 | Acc train: 0.5352113 | Acc validation: 0.5500000 \n",
      "Train iter:  10\tTest iter:  10\tIter:    10 | Cost: 0.2306563 | Acc train: 0.5352113 | Acc validation: 0.5500000 \n",
      "\n",
      "\n",
      "Epoch:     1 | Cost: 0.3545072 | Acc train: 0.5352113 | Acc validation: 0.5500000 \n"
     ]
    }
   ],
   "source": [
    "ch1_history = fit_model(x=X_train_chwise[0],\n",
    "                         y=Y_train,\n",
    "                         init_weights=var_init,\n",
    "                         batch_size=Batch_Size,\n",
    "                         epochs=3,\n",
    "                         opt=optimizer,\n",
    "                         validation_data=(X_test_chwise[0], Y_test),\n",
    "                         cost_calc_data=(X_chwise[0], Y_bin))"
   ]
  },
  {
   "cell_type": "code",
   "execution_count": 46,
   "metadata": {},
   "outputs": [
    {
     "data": {
      "image/png": "[encoded data removed]",
      "text/plain": [
       "<Figure size 432x288 with 1 Axes>"
      ]
     },
     "metadata": {},
     "output_type": "display_data"
    }
   ],
   "source": [
    "plt.plot(np.array(ch1_history['acc_val']), label='Ch-1')\n",
    "plt.title('Hybrid QCNN performance')\n",
    "plt.xlabel('Epochs')\n",
    "plt.legend()\n",
    "plt.ylabel('Validation Accuracy')\n",
    "plt.show()"
   ]
  },
  {
   "cell_type": "code",
   "execution_count": null,
   "metadata": {},
   "outputs": [],
   "source": []
  }
 ],
 "metadata": {
  "kernelspec": {
   "display_name": "Python 3",
   "language": "python",
   "name": "python3"
  },
  "language_info": {
   "codemirror_mode": {
    "name": "ipython",
    "version": 3
   },
   "file_extension": ".py",
   "mimetype": "text/x-python",
   "name": "python",
   "nbconvert_exporter": "python",
   "pygments_lexer": "ipython3",
   "version": "3.7.6"
  }
 },
 "nbformat": 4,
 "nbformat_minor": 4
}
