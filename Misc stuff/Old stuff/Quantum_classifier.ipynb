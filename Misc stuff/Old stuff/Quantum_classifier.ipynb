{
 "cells": [
  {
   "cell_type": "code",
   "execution_count": 62,
   "metadata": {},
   "outputs": [],
   "source": [
    "import pennylane as qml\n",
    "from pennylane import numpy as np\n",
    "from pennylane.optimize import NesterovMomentumOptimizer\n",
    "\n",
    "import pandas as pd\n",
    "import glob as glob\n",
    "\n",
    "len_delta = 38\n",
    "len_theta = 38\n",
    "len_alpha = 70\n",
    "len_beta = 133\n",
    "len_gamma = 259\n",
    "\n",
    "idx_delta = 4\n",
    "idx_theta = 3\n",
    "idx_alpha = 2\n",
    "idx_beta = 1\n",
    "idx_gamma = 0"
   ]
  },
  {
   "cell_type": "code",
   "execution_count": 63,
   "metadata": {},
   "outputs": [],
   "source": [
    "def layer(W, num_wires):\n",
    "    for i in range(num_wires):\n",
    "        qml.Rot(W[i, 0], W[i, 1], W[i, 2], wires=i)\n",
    "        \n",
    "    for j in range(num_wires):\n",
    "        if j != num_wires-1:\n",
    "            qml.CNOT(wires=[j, j+1])\n",
    "        else:\n",
    "            qml.CNOT(j, 0)"
   ]
  },
  {
   "cell_type": "code",
   "execution_count": 64,
   "metadata": {},
   "outputs": [],
   "source": [
    "def get_raw_angles(x, num_wires):\n",
    "    angles = []\n",
    "    \n",
    "    squared_sum = lambda input_arr: sum([d**2 for d in input_arr])\n",
    "    \n",
    "    for k in range(num_wires):\n",
    "        ang_k = []\n",
    "        for j in range(2**(num_wires-k-1)):\n",
    "            num_idx = (2*j+1)*(2**k)\n",
    "            den_idx = j*(2**(k+1))\n",
    "            ang = 2 * np.arcsin(np.sqrt(squared_sum(x[num_idx : num_idx+(2**k-1)+1])) / np.sqrt(squared_sum(x[den_idx : den_idx+2**(k+1)]) + 1e-12))\n",
    "            ang_k.append(ang)\n",
    "            \n",
    "        angles.insert(0, ang_k)\n",
    "            \n",
    "    return angles"
   ]
  },
  {
   "cell_type": "code",
   "execution_count": 65,
   "metadata": {},
   "outputs": [],
   "source": [
    "def grayCodeUtil(res, n, num):\n",
    "    if (n == 0): \n",
    "        res.append(num[0]) \n",
    "        return\n",
    "    \n",
    "    grayCodeUtil(res, n - 1, num) \n",
    "    \n",
    "    num[0] = num[0] ^ (1 << (n - 1))  \n",
    "    grayCodeUtil(res, n - 1, num)\n",
    "\n",
    "def generate_gray_sequence(n):\n",
    "    res = []\n",
    "    \n",
    "    num = [0]\n",
    "    grayCodeUtil(res, n, num)\n",
    "    return res\n",
    "\n",
    "def alpha_to_theta(alphas):\n",
    "    k = int(np.log(len(alphas)) / np.log(2)) \n",
    "    thetas = []\n",
    "    M = np.zeros((2**k, 2**k))\n",
    "    \n",
    "    print(alphas)\n",
    "    \n",
    "    for i in range(2**k):\n",
    "        for j in generate_gray_sequence(k):\n",
    "            M[i][j] = ((-1) ** (i & j)) / (2**k)\n",
    "            \n",
    "    print(M)\n",
    "    \n",
    "    thetas = M.dot(alphas)\n",
    "    \n",
    "    return thetas\n",
    "    \n",
    "# alpha_to_theta(np.ones((2, 1)))"
   ]
  },
  {
   "cell_type": "code",
   "execution_count": 210,
   "metadata": {},
   "outputs": [
    {
     "data": {
      "text/plain": [
       "array([ 0.        , -0.        ,  0.56397465,  0.97504604, -0.97504604])"
      ]
     },
     "execution_count": 210,
     "metadata": {},
     "output_type": "execute_result"
    }
   ],
   "source": [
    "# TODO: Implement:-\n",
    "# 1. Gray code\n",
    "# 2. Alpha angle to theta angle tranformation (Not sure?)\n",
    "\n",
    "def get_angles(x):\n",
    "    num_wires = int(np.log(len(x)) / np.log(2))\n",
    "    raw_ang = get_raw_angles(x, num_wires)\n",
    "    angles = []\n",
    "#     print(raw_ang)\n",
    "    \n",
    "#     print(raw_ang[0][0], -raw_ang[1][0]/2, raw_ang[1][0]/2, -raw_ang[1][1]/2, raw_ang[1][1]/2)\n",
    "    \n",
    "#     num_wires =  k \n",
    "#     k/2\n",
    "#     np.append(0th one)\n",
    "#     for i in range((2**(n+1) - 4))/2):\n",
    "#         np.append(raw_angle[1][i]/2**k)\n",
    "#         np.append(-raw_angle[1][i]/2**k)\n",
    "    \n",
    "    angles.append(raw_ang[0][0])\n",
    "    \n",
    "    for i in range(1, len(raw_ang)):\n",
    "        raw_ang[i].reverse()\n",
    "        idx = 0\n",
    "        for j in range(len(raw_ang[i])):\n",
    "            if j < len(raw_ang[i])//2:\n",
    "                angles.insert(2*idx, raw_ang[i][j]/2)\n",
    "                angles.insert(2*idx+1, -raw_ang[i][j]/2)\n",
    "                idx += 1\n",
    "            else:\n",
    "                angles.append(raw_ang[i][j]/2)\n",
    "                angles.append(-raw_ang[i][j]/2)\n",
    "            \n",
    "            \n",
    "    \n",
    "    return np.array(angles)\n",
    "\n",
    "\n",
    "\n",
    "x = np.array([0.53896774, 0.79503606, 0.27826503, 0.0])\n",
    "# x = np.array([0.5, 0.5, 0.5, 0.5, 0.5, 0.5, 0.5, 0.5])\n",
    "# x = np.array([0.2, 0.3, 0.4, 0.5, 0.6, 0.7, 0.8, 0.9])\n",
    "get_angles(x)"
   ]
  },
  {
   "cell_type": "code",
   "execution_count": 211,
   "metadata": {},
   "outputs": [],
   "source": [
    "def create_ctrl_rot(num_wires):\n",
    "    if num_wires == 2:\n",
    "        return [num_wires-1, num_wires-1]\n",
    "    else:\n",
    "        ctrl_idxs = create_ctrl_rot(num_wires-1)\n",
    "        ctrl_idxs[-1] += 1\n",
    "        return ctrl_idxs + ctrl_idxs"
   ]
  },
  {
   "cell_type": "code",
   "execution_count": 234,
   "metadata": {},
   "outputs": [],
   "source": [
    "def UCRy(angles, wires):\n",
    "#     print('UCRy:')\n",
    "    num_ctrl_rot = 2 ** len(wires) - 1\n",
    "    ctrl_idxs = [len(wires)-i-1 for i in create_ctrl_rot(len(wires))]\n",
    "    \n",
    "    i = 0\n",
    "    for idx in ctrl_idxs:\n",
    "        qml.RY(angles[i], wires=wires[-1])\n",
    "#         print(f'RY(a[{i}]), wires={wires[-1]})')\n",
    "        qml.CNOT(wires=[idx, wires[-1]])\n",
    "#         print(f'CNOT(wires=[{idx}, {wires[-1]}])')\n",
    "        i += 1\n",
    "        \n",
    "#     print()"
   ]
  },
  {
   "cell_type": "code",
   "execution_count": 235,
   "metadata": {},
   "outputs": [],
   "source": [
    "def XUCRy(angles, wires):\n",
    "#     print('XUCRy:')\n",
    "    for i in wires[:-1]:\n",
    "        qml.PauliX(wires=i)\n",
    "        \n",
    "    UCRy(angles, wires)\n",
    "    \n",
    "    for i in wires[:-1]:\n",
    "        qml.PauliX(wires=i)"
   ]
  },
  {
   "cell_type": "code",
   "execution_count": 236,
   "metadata": {},
   "outputs": [],
   "source": [
    "def statePreparation(a, num_wires):\n",
    "    idx = 0\n",
    "#     print('num_wires (SP):', num_wires, 'num_ang:', len(a), 'mid_point:', len(a)//2)\n",
    "    qml.RY(a[len(a)//2], wires=0)\n",
    "    for i in range(num_wires):\n",
    "        if idx == (len(a)//2):\n",
    "#             print(f'RY(a[{idx}]), wires=0)')\n",
    "#             print()\n",
    "            idx += 1\n",
    "        else:\n",
    "            wires = [num for num in range(num_wires-i)]\n",
    "#             print('UCRy: \\t i:', i, 'SP wires:', wires, 'idx:', idx)\n",
    "            UCRy(a[idx : (idx+(2**(num_wires-i)))], wires)\n",
    "            idx += (2**(num_wires-i-1))\n",
    "#             print('idx_later:', idx)\n",
    "\n",
    "    \n",
    "    for i in range(num_wires-1, 0, -1):\n",
    "        wires = [num for num in range(num_wires-i+1)]\n",
    "#         print('XUCRy: \\t i:', i, 'SP wires:', wires, 'idx:', idx)\n",
    "        XUCRy(a[idx : (idx+(2**(num_wires-i)))], wires)\n",
    "        idx += (2**(num_wires-i))\n",
    "#         print('idx_later:', idx)"
   ]
  },
  {
   "cell_type": "code",
   "execution_count": 237,
   "metadata": {},
   "outputs": [],
   "source": [
    "def normalize(list_data):\n",
    "    for i in range(2):\n",
    "        mu = list_data[i].mean()\n",
    "        sigma = list_data[i].std()\n",
    "        \n",
    "        list_data[i] = (list_data[i] - mu) / sigma\n",
    "        for j in range(len(list_data[i])):\n",
    "            if list_data[i][j] > 2:\n",
    "                list_data[i][j] = 2\n",
    "            elif list_data[i][j] < -2:\n",
    "                list_data[i][j] = -2\n",
    "                \n",
    "        list_data[i] = (list_data[i] / 5) + 0.5\n",
    "            \n",
    "    return list_data"
   ]
  },
  {
   "cell_type": "code",
   "execution_count": 239,
   "metadata": {},
   "outputs": [
    {
     "name": "stdout",
     "output_type": "stream",
     "text": [
      "x               :  [0.5 0.5 0.5 0.5]\n",
      "angles          :  [ 0.78539816 -0.78539816  1.57079633  0.78539816 -0.78539816]\n",
      "amplitude vector:  [0.5 0.5 0.5 0.5]\n"
     ]
    }
   ],
   "source": [
    "# files = glob.glob('./DWT_TextDump/*/*.txt')\n",
    "# data = pd.read_csv(files[0], delimiter='\\t', header=None)\n",
    "\n",
    "# list_data = [np.asanyarray(data[3])[:32], np.asanyarray(data[4])[:32]]\n",
    "\n",
    "# norm_data = normalize(list_data)\n",
    "\n",
    "# x = norm_data[0] # Load theta wave values\n",
    "# x = np.array([0.53896774, 0.79503606, 0.27826503, 0.0, 0.53896774, 0.79503606, 0.27826503, 0.0])\n",
    "x = np.array([0.5, 0.5, 0.5, 0.5])#, 0.5, 0.5, 0.5, 0.5])\n",
    "ang = get_angles(x)\n",
    "\n",
    "# num_qubits = int(np.log(len(norm_data[0]))/np.log(2))\n",
    "num_qubits = int(np.log(len(x))/np.log(2))\n",
    "# num_qubits = 2\n",
    "\n",
    "dev = qml.device('default.qubit', wires=num_qubits)\n",
    "\n",
    "@qml.qnode(dev)\n",
    "def test(angles=None):\n",
    "    statePreparation(angles, num_qubits)\n",
    "    return qml.expval(qml.PauliZ(0))\n",
    "\n",
    "test(angles=ang)\n",
    "\n",
    "print(\"x               : \", x)\n",
    "print(\"angles          : \", ang)\n",
    "print(\"amplitude vector: \", np.real(dev._state))"
   ]
  },
  {
   "cell_type": "code",
   "execution_count": null,
   "metadata": {},
   "outputs": [],
   "source": []
  }
 ],
 "metadata": {
  "kernelspec": {
   "display_name": "Python 3",
   "language": "python",
   "name": "python3"
  },
  "language_info": {
   "codemirror_mode": {
    "name": "ipython",
    "version": 3
   },
   "file_extension": ".py",
   "mimetype": "text/x-python",
   "name": "python",
   "nbconvert_exporter": "python",
   "pygments_lexer": "ipython3",
   "version": "3.7.6"
  }
 },
 "nbformat": 4,
 "nbformat_minor": 4
}
