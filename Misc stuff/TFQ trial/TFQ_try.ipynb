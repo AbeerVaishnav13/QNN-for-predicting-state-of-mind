{
 "cells": [
  {
   "cell_type": "markdown",
   "metadata": {},
   "source": [
    "# Hello, many worlds"
   ]
  },
  {
   "cell_type": "code",
   "execution_count": 1,
   "metadata": {},
   "outputs": [],
   "source": [
    "import tensorflow as tf\n",
    "import tensorflow_quantum as tfq\n",
    "\n",
    "import cirq\n",
    "import numpy as np\n",
    "import sympy\n",
    "\n",
    "%matplotlib inline\n",
    "from matplotlib import style\n",
    "style.use('bmh')\n",
    "style.use('dark_background')\n",
    "\n",
    "import matplotlib.pyplot as plt\n",
    "from cirq.contrib.svg import SVGCircuit\n",
    "import pydot, graphviz"
   ]
  },
  {
   "cell_type": "markdown",
   "metadata": {},
   "source": [
    "### The basics"
   ]
  },
  {
   "cell_type": "code",
   "execution_count": 2,
   "metadata": {},
   "outputs": [],
   "source": [
    "a, b = sympy.symbols('a b')"
   ]
  },
  {
   "cell_type": "code",
   "execution_count": 3,
   "metadata": {},
   "outputs": [
    {
     "data": {
      "image/svg+xml": [
       "<svg xmlns=\"http://www.w3.org/2000/svg\" width=\"227.108125\" height=\"100.0\"><line x1=\"32.246796875\" x2=\"197.108125\" y1=\"25.0\" y2=\"25.0\" stroke=\"#1967d2\" stroke-width=\"1\" /><line x1=\"32.246796875\" x2=\"197.108125\" y1=\"75.0\" y2=\"75.0\" stroke=\"#1967d2\" stroke-width=\"1\" /><line x1=\"157.108125\" x2=\"157.108125\" y1=\"25.0\" y2=\"75.0\" stroke=\"black\" stroke-width=\"3\" /><rect x=\"10.0\" y=\"5.0\" width=\"44.49359375\" height=\"40\" stroke=\"black\" fill=\"white\" stroke-width=\"0\" /><text x=\"32.246796875\" y=\"25.0\" dominant-baseline=\"middle\" text-anchor=\"middle\" font-size=\"14px\">(0, 0): </text><rect x=\"10.0\" y=\"55.0\" width=\"44.49359375\" height=\"40\" stroke=\"black\" fill=\"white\" stroke-width=\"0\" /><text x=\"32.246796875\" y=\"75.0\" dominant-baseline=\"middle\" text-anchor=\"middle\" font-size=\"14px\">(0, 1): </text><rect x=\"74.49359375\" y=\"5.0\" width=\"42.61453125\" height=\"40\" stroke=\"black\" fill=\"white\" stroke-width=\"1\" /><text x=\"95.800859375\" y=\"25.0\" dominant-baseline=\"middle\" text-anchor=\"middle\" font-size=\"14px\">Rx(a)</text><rect x=\"74.49359375\" y=\"55.0\" width=\"42.61453125\" height=\"40\" stroke=\"black\" fill=\"white\" stroke-width=\"1\" /><text x=\"95.800859375\" y=\"75.0\" dominant-baseline=\"middle\" text-anchor=\"middle\" font-size=\"14px\">Ry(b)</text><circle cx=\"157.108125\" cy=\"25.0\" r=\"10.0\" /><rect x=\"137.108125\" y=\"55.0\" width=\"40\" height=\"40\" stroke=\"black\" fill=\"white\" stroke-width=\"1\" /><text x=\"157.108125\" y=\"75.0\" dominant-baseline=\"middle\" text-anchor=\"middle\" font-size=\"18px\">X</text></svg>"
      ],
      "text/plain": [
       "<cirq.contrib.svg.svg.SVGCircuit at 0x1455fac90>"
      ]
     },
     "execution_count": 3,
     "metadata": {},
     "output_type": "execute_result"
    }
   ],
   "source": [
    "q0, q1 = cirq.GridQubit.rect(1, 2)\n",
    "\n",
    "circuit = cirq.Circuit(\n",
    "                    cirq.rx(a).on(q0),\n",
    "                    cirq.ry(b).on(q1), cirq.CNOT(q0, q1))\n",
    "\n",
    "SVGCircuit(circuit)\n",
    "# print(circuit)"
   ]
  },
  {
   "cell_type": "code",
   "execution_count": 4,
   "metadata": {},
   "outputs": [
    {
     "data": {
      "text/plain": [
       "array([ 0.9387913 +0.j        , -0.23971277+0.j        ,\n",
       "        0.        +0.06120872j,  0.        -0.23971277j], dtype=complex64)"
      ]
     },
     "execution_count": 4,
     "metadata": {},
     "output_type": "execute_result"
    }
   ],
   "source": [
    "resolver = cirq.ParamResolver({a : 0.5, b : -0.5})\n",
    "output_state_vector = cirq.Simulator().simulate(circuit, resolver).final_state\n",
    "output_state_vector"
   ]
  },
  {
   "cell_type": "code",
   "execution_count": 5,
   "metadata": {},
   "outputs": [
    {
     "data": {
      "text/plain": [
       "0.8775825500488281"
      ]
     },
     "execution_count": 5,
     "metadata": {},
     "output_type": "execute_result"
    }
   ],
   "source": [
    "z0 = cirq.Z(q0)\n",
    "\n",
    "qubit_map = {q0 : 0, q1 : 1}\n",
    "\n",
    "z0.expectation_from_wavefunction(output_state_vector, qubit_map).real"
   ]
  },
  {
   "cell_type": "code",
   "execution_count": 6,
   "metadata": {},
   "outputs": [
    {
     "data": {
      "text/plain": [
       "-0.04063427448272705"
      ]
     },
     "execution_count": 6,
     "metadata": {},
     "output_type": "execute_result"
    }
   ],
   "source": [
    "z0x1 = 0.5 * z0 + cirq.X(q1)\n",
    "\n",
    "z0x1.expectation_from_wavefunction(output_state_vector, qubit_map).real"
   ]
  },
  {
   "cell_type": "code",
   "execution_count": 7,
   "metadata": {},
   "outputs": [
    {
     "name": "stdout",
     "output_type": "stream",
     "text": [
      "(1,)\n",
      "<dtype: 'string'>\n"
     ]
    }
   ],
   "source": [
    "circuit_tensor = tfq.convert_to_tensor([circuit])\n",
    "\n",
    "print(circuit_tensor.shape)\n",
    "print(circuit_tensor.dtype)"
   ]
  },
  {
   "cell_type": "code",
   "execution_count": 8,
   "metadata": {},
   "outputs": [
    {
     "data": {
      "text/plain": [
       "TensorShape([2])"
      ]
     },
     "execution_count": 8,
     "metadata": {},
     "output_type": "execute_result"
    }
   ],
   "source": [
    "pauli_tensor = tfq.convert_to_tensor([z0, z0x1])\n",
    "pauli_tensor.shape"
   ]
  },
  {
   "cell_type": "markdown",
   "metadata": {},
   "source": [
    "### Batching circuit simulation"
   ]
  },
  {
   "cell_type": "code",
   "execution_count": 9,
   "metadata": {},
   "outputs": [],
   "source": [
    "batch_vals = np.array(np.random.uniform(0, 2 * np.pi, (5, 2)), dtype=np.float32)"
   ]
  },
  {
   "cell_type": "code",
   "execution_count": 10,
   "metadata": {},
   "outputs": [
    {
     "name": "stdout",
     "output_type": "stream",
     "text": [
      "cirq batch results: \n",
      " [[0.83953464]\n",
      " [0.44405019]\n",
      " [0.2281633 ]\n",
      " [0.99464834]\n",
      " [0.52329826]]\n"
     ]
    }
   ],
   "source": [
    "cirq_results = []\n",
    "cirq_simulator = cirq.Simulator()\n",
    "\n",
    "for vals in batch_vals:\n",
    "    resolver = cirq.ParamResolver({a : vals[0], b : vals[1]})\n",
    "    final_state = cirq_simulator.simulate(circuit, resolver).final_state\n",
    "    cirq_results.append(\n",
    "        [z0.expectation_from_wavefunction(final_state, {\n",
    "            q0 : 0,\n",
    "            q1 : 1\n",
    "        }).real])\n",
    "    \n",
    "print('cirq batch results: \\n {}'.format(np.array(cirq_results)))"
   ]
  },
  {
   "cell_type": "code",
   "execution_count": 11,
   "metadata": {},
   "outputs": [
    {
     "data": {
      "text/plain": [
       "<tf.Tensor: shape=(5, 1), dtype=float32, numpy=\n",
       "array([[0.83953476],\n",
       "       [0.44405025],\n",
       "       [0.2281632 ],\n",
       "       [0.9946483 ],\n",
       "       [0.52329826]], dtype=float32)>"
      ]
     },
     "execution_count": 11,
     "metadata": {},
     "output_type": "execute_result"
    }
   ],
   "source": [
    "tfq.layers.Expectation()(circuit, symbol_names=[a, b], symbol_values=batch_vals, operators=z0)"
   ]
  },
  {
   "cell_type": "markdown",
   "metadata": {},
   "source": [
    "# Hybrid Quantum-Classical Optimization"
   ]
  },
  {
   "cell_type": "markdown",
   "metadata": {},
   "source": [
    "### Controlled circuit definition"
   ]
  },
  {
   "cell_type": "code",
   "execution_count": 12,
   "metadata": {},
   "outputs": [
    {
     "data": {
      "image/svg+xml": [
       "<svg xmlns=\"http://www.w3.org/2000/svg\" width=\"304.0061328125\" height=\"50.0\"><line x1=\"32.246796875\" x2=\"274.0061328125\" y1=\"25.0\" y2=\"25.0\" stroke=\"#1967d2\" stroke-width=\"1\" /><rect x=\"10.0\" y=\"5.0\" width=\"44.49359375\" height=\"40\" stroke=\"black\" fill=\"white\" stroke-width=\"0\" /><text x=\"32.246796875\" y=\"25.0\" dominant-baseline=\"middle\" text-anchor=\"middle\" font-size=\"14px\">(0, 0): </text><rect x=\"74.49359375\" y=\"5.0\" width=\"46.5041796875\" height=\"40\" stroke=\"black\" fill=\"white\" stroke-width=\"1\" /><text x=\"97.74568359375\" y=\"25.0\" dominant-baseline=\"middle\" text-anchor=\"middle\" font-size=\"14px\">Rz(t1)</text><rect x=\"140.99777343749997\" y=\"5.0\" width=\"46.5041796875\" height=\"40\" stroke=\"black\" fill=\"white\" stroke-width=\"1\" /><text x=\"164.24986328125\" y=\"25.0\" dominant-baseline=\"middle\" text-anchor=\"middle\" font-size=\"14px\">Ry(t2)</text><rect x=\"207.501953125\" y=\"5.0\" width=\"46.5041796875\" height=\"40\" stroke=\"black\" fill=\"white\" stroke-width=\"1\" /><text x=\"230.75404296875\" y=\"25.0\" dominant-baseline=\"middle\" text-anchor=\"middle\" font-size=\"14px\">Rx(t3)</text></svg>"
      ],
      "text/plain": [
       "<cirq.contrib.svg.svg.SVGCircuit at 0x145ca0e50>"
      ]
     },
     "execution_count": 12,
     "metadata": {},
     "output_type": "execute_result"
    }
   ],
   "source": [
    "# Prameters which classical NN will feed values into\n",
    "control_params = sympy.symbols('t1 t2 t3')\n",
    "\n",
    "# Create the parameterized circuit\n",
    "qubit = cirq.GridQubit(0, 0)\n",
    "model_circuit = cirq.Circuit(\n",
    "    cirq.rz(control_params[0])(qubit),\n",
    "    cirq.ry(control_params[1])(qubit),\n",
    "    cirq.rx(control_params[2])(qubit))\n",
    "\n",
    "SVGCircuit(model_circuit)\n",
    "# print(model_circuit)"
   ]
  },
  {
   "cell_type": "markdown",
   "metadata": {},
   "source": [
    "### The controller"
   ]
  },
  {
   "cell_type": "code",
   "execution_count": 13,
   "metadata": {},
   "outputs": [],
   "source": [
    "controller = tf.keras.Sequential([\n",
    "    tf.keras.layers.Dense(10, activation='elu'),\n",
    "    tf.keras.layers.Dense(3)\n",
    "])"
   ]
  },
  {
   "cell_type": "code",
   "execution_count": 14,
   "metadata": {},
   "outputs": [
    {
     "data": {
      "text/plain": [
       "array([[ 0.        ,  0.        ,  0.        ],\n",
       "       [-0.23752365, -0.09134974, -0.17483209]], dtype=float32)"
      ]
     },
     "execution_count": 14,
     "metadata": {},
     "output_type": "execute_result"
    }
   ],
   "source": [
    "controller(tf.constant([[0.0], [1.0]])).numpy()"
   ]
  },
  {
   "cell_type": "markdown",
   "metadata": {},
   "source": [
    "### Connect the controller to the circuit"
   ]
  },
  {
   "cell_type": "code",
   "execution_count": 15,
   "metadata": {},
   "outputs": [],
   "source": [
    "# This input is the simulated miscalibration that the model will learn to correct.\n",
    "circuits_input = tf.keras.Input(shape=(),\n",
    "                               dtype=tf.string, # circuit_tensor has dtype=tf.string\n",
    "                               name='circuits_input')\n",
    "\n",
    "# Commands will be either `0` or `1`, specifying the state to set the qubit to.\n",
    "commands_input = tf.keras.Input(shape=(1,),\n",
    "                                dtype=tf.dtypes.float32,\n",
    "                                name='commands_input')"
   ]
  },
  {
   "cell_type": "code",
   "execution_count": 16,
   "metadata": {},
   "outputs": [],
   "source": [
    "dense_2 = controller(commands_input)\n",
    "\n",
    "# TFQ layer for classically controlled circuits\n",
    "expectation_layer = tfq.layers.ControlledPQC(model_circuit,\n",
    "                                            operators=cirq.Z(qubit))\n",
    "\n",
    "expectation = expectation_layer([circuits_input, dense_2])"
   ]
  },
  {
   "cell_type": "code",
   "execution_count": 17,
   "metadata": {},
   "outputs": [],
   "source": [
    "# The full Keras model is built from our layers.\n",
    "model = tf.keras.Model(inputs=[circuits_input, commands_input],\n",
    "                      outputs=expectation)"
   ]
  },
  {
   "cell_type": "code",
   "execution_count": 18,
   "metadata": {},
   "outputs": [
    {
     "name": "stdout",
     "output_type": "stream",
     "text": [
      "Failed to import pydot. You must install pydot and graphviz for `pydotprint` to work.\n"
     ]
    }
   ],
   "source": [
    "tf.keras.utils.plot_model(model, show_shapes=True, dpi=70)"
   ]
  },
  {
   "cell_type": "markdown",
   "metadata": {},
   "source": [
    "### The dataset"
   ]
  },
  {
   "cell_type": "code",
   "execution_count": 19,
   "metadata": {},
   "outputs": [],
   "source": [
    "# The command input values to classical NN\n",
    "commands = np.array([[0], [1]], dtype=np.float32)\n",
    "\n",
    "# The desired Z expectation value at outpu t of the quantum circuit\n",
    "expected_outputs = np.array([[1], [-1]], dtype=np.float32)"
   ]
  },
  {
   "cell_type": "markdown",
   "metadata": {},
   "source": [
    "### Input circuit definition"
   ]
  },
  {
   "cell_type": "code",
   "execution_count": 20,
   "metadata": {},
   "outputs": [],
   "source": [
    "random_rotations = np.random.uniform(0, 2 * np.pi, 3)\n",
    "noisy_prep = cirq.Circuit(\n",
    "    cirq.rx(random_rotations[0])(qubit),\n",
    "    cirq.ry(random_rotations[1])(qubit),\n",
    "    cirq.rz(random_rotations[2])(qubit))\n",
    "\n",
    "datapoint_circuits = tfq.convert_to_tensor([\n",
    "    noisy_prep\n",
    "] * 2) # Make two copies of this circuit"
   ]
  },
  {
   "cell_type": "code",
   "execution_count": 21,
   "metadata": {},
   "outputs": [
    {
     "data": {
      "text/plain": [
       "TensorShape([2])"
      ]
     },
     "execution_count": 21,
     "metadata": {},
     "output_type": "execute_result"
    }
   ],
   "source": [
    "datapoint_circuits.shape"
   ]
  },
  {
   "cell_type": "markdown",
   "metadata": {},
   "source": [
    "### Training"
   ]
  },
  {
   "cell_type": "code",
   "execution_count": 22,
   "metadata": {},
   "outputs": [
    {
     "data": {
      "text/plain": [
       "array([[-0.5957383 ],\n",
       "       [-0.58646244]], dtype=float32)"
      ]
     },
     "execution_count": 22,
     "metadata": {},
     "output_type": "execute_result"
    }
   ],
   "source": [
    "model([datapoint_circuits, commands]).numpy()"
   ]
  },
  {
   "cell_type": "code",
   "execution_count": 23,
   "metadata": {},
   "outputs": [
    {
     "name": "stdout",
     "output_type": "stream",
     "text": [
      "Train on 2 samples\n",
      "Epoch 1/30\n",
      "2/2 [==============================] - 1s 670ms/sample - loss: 1.3587\n",
      "Epoch 2/30\n",
      "2/2 [==============================] - 0s 2ms/sample - loss: 0.9834\n",
      "Epoch 3/30\n",
      "2/2 [==============================] - 0s 2ms/sample - loss: 0.6221\n",
      "Epoch 4/30\n",
      "2/2 [==============================] - 0s 1ms/sample - loss: 0.3341\n",
      "Epoch 5/30\n",
      "2/2 [==============================] - 0s 1ms/sample - loss: 0.1533\n",
      "Epoch 6/30\n",
      "2/2 [==============================] - 0s 2ms/sample - loss: 0.0641\n",
      "Epoch 7/30\n",
      "2/2 [==============================] - 0s 2ms/sample - loss: 0.0267\n",
      "Epoch 8/30\n",
      "2/2 [==============================] - 0s 2ms/sample - loss: 0.0116\n",
      "Epoch 9/30\n",
      "2/2 [==============================] - 0s 2ms/sample - loss: 0.0058\n",
      "Epoch 10/30\n",
      "2/2 [==============================] - 0s 2ms/sample - loss: 0.0042\n",
      "Epoch 11/30\n",
      "2/2 [==============================] - 0s 2ms/sample - loss: 0.0043\n",
      "Epoch 12/30\n",
      "2/2 [==============================] - 0s 2ms/sample - loss: 0.0045\n",
      "Epoch 13/30\n",
      "2/2 [==============================] - 0s 1ms/sample - loss: 0.0037\n",
      "Epoch 14/30\n",
      "2/2 [==============================] - 0s 1ms/sample - loss: 0.0022\n",
      "Epoch 15/30\n",
      "2/2 [==============================] - 0s 3ms/sample - loss: 0.0010\n",
      "Epoch 16/30\n",
      "2/2 [==============================] - 0s 2ms/sample - loss: 9.5948e-04\n",
      "Epoch 17/30\n",
      "2/2 [==============================] - 0s 2ms/sample - loss: 0.0016\n",
      "Epoch 18/30\n",
      "2/2 [==============================] - 0s 1ms/sample - loss: 0.0024\n",
      "Epoch 19/30\n",
      "2/2 [==============================] - 0s 1ms/sample - loss: 0.0038\n",
      "Epoch 20/30\n",
      "2/2 [==============================] - 0s 2ms/sample - loss: 0.0066\n",
      "Epoch 21/30\n",
      "2/2 [==============================] - 0s 2ms/sample - loss: 0.0096\n",
      "Epoch 22/30\n",
      "2/2 [==============================] - 0s 2ms/sample - loss: 0.0095\n",
      "Epoch 23/30\n",
      "2/2 [==============================] - 0s 1ms/sample - loss: 0.0068\n",
      "Epoch 24/30\n",
      "2/2 [==============================] - 0s 1ms/sample - loss: 0.0046\n",
      "Epoch 25/30\n",
      "2/2 [==============================] - 0s 2ms/sample - loss: 0.0037\n",
      "Epoch 26/30\n",
      "2/2 [==============================] - 0s 1ms/sample - loss: 0.0038\n",
      "Epoch 27/30\n",
      "2/2 [==============================] - 0s 1ms/sample - loss: 0.0044\n",
      "Epoch 28/30\n",
      "2/2 [==============================] - 0s 1ms/sample - loss: 0.0044\n",
      "Epoch 29/30\n",
      "2/2 [==============================] - 0s 1ms/sample - loss: 0.0033\n",
      "Epoch 30/30\n",
      "2/2 [==============================] - 0s 1ms/sample - loss: 0.0018\n"
     ]
    }
   ],
   "source": [
    "optimizer = tf.keras.optimizers.Adam(learning_rate=0.05)\n",
    "loss = tf.keras.losses.MeanSquaredError()\n",
    "model.compile(optimizer=optimizer, loss=loss)\n",
    "history = model.fit(x=[datapoint_circuits, commands],\n",
    "                    y=expected_outputs,\n",
    "                    epochs=30,\n",
    "                    verbose=1)"
   ]
  },
  {
   "cell_type": "code",
   "execution_count": 24,
   "metadata": {},
   "outputs": [
    {
     "data": {
      "image/png": "[encoded data removed]",
      "text/plain": [
       "<Figure size 432x288 with 1 Axes>"
      ]
     },
     "metadata": {},
     "output_type": "display_data"
    }
   ],
   "source": [
    "plt.plot(history.history['loss'])\n",
    "plt.title(\"Learning to Control a Qubit\")\n",
    "plt.xlabel(\"Iterations\")\n",
    "plt.ylabel(\"Error in Control\")\n",
    "plt.show()"
   ]
  },
  {
   "cell_type": "markdown",
   "metadata": {},
   "source": [
    "### Verify outputs"
   ]
  },
  {
   "cell_type": "code",
   "execution_count": 25,
   "metadata": {},
   "outputs": [
    {
     "name": "stdout",
     "output_type": "stream",
     "text": [
      "For a desired output (expectation) of [1.] with noisy preparation, the controller\n",
      "network found the following values for theta: [ 2.0013022   4.23094    -0.16599931]\n",
      "Which gives an actual expectation of: 0.9637539386749268\n",
      "\n",
      "For a desired output (expectation) of [-1.] with noisy preparation, the controller\n",
      "network found the following values for theta: [-0.92347455 -1.0410511  -0.19210549]\n",
      "Which gives an actual expectation of: -0.9929053783416748\n",
      "\n"
     ]
    }
   ],
   "source": [
    "def check_error(command_values, desired_values):\n",
    "    \"\"\"Based on the value in `command_value` see how well you could prepare\n",
    "    the full circuit to have `desired_value` when taking expectation w.r.t. Z.\"\"\"\n",
    "    params_to_prepare_output = controller(command_values).numpy()\n",
    "    full_circuit = noisy_prep + model_circuit\n",
    "    \n",
    "    # Test how well you can prepare a state to get the expectation\n",
    "    # value in `desired_values`\n",
    "    for index in [0, 1]:\n",
    "        state = cirq_simulator.simulate(full_circuit,\n",
    "                                       {s : v for (s, v) in zip(control_params, params_to_prepare_output[index])}\n",
    "                                       ).final_state\n",
    "        expectation = z0.expectation_from_wavefunction(state, {qubit : 0}).real\n",
    "        \n",
    "        print(f'For a desired output (expectation) of {desired_values[index]} with'\n",
    "          f' noisy preparation, the controller\\nnetwork found the following '\n",
    "          f'values for theta: {params_to_prepare_output[index]}\\nWhich gives an'\n",
    "          f' actual expectation of: {expectation}\\n')\n",
    "        \n",
    "check_error(commands, expected_outputs)"
   ]
  },
  {
   "cell_type": "code",
   "execution_count": 26,
   "metadata": {},
   "outputs": [
    {
     "data": {
      "text/plain": [
       "<tf.Tensor: shape=(2, 1), dtype=float32, numpy=\n",
       "array([[ 0.96375436],\n",
       "       [-0.99290544]], dtype=float32)>"
      ]
     },
     "execution_count": 26,
     "metadata": {},
     "output_type": "execute_result"
    }
   ],
   "source": [
    "model([datapoint_circuits, commands])"
   ]
  },
  {
   "cell_type": "markdown",
   "metadata": {},
   "source": [
    "# Learning to prepare eigenstates of different operators"
   ]
  },
  {
   "cell_type": "markdown",
   "metadata": {},
   "source": [
    "### New model definition"
   ]
  },
  {
   "cell_type": "code",
   "execution_count": 27,
   "metadata": {},
   "outputs": [],
   "source": [
    "# Define inputs.\n",
    "commands_input = tf.keras.layers.Input(shape=(1),\n",
    "                                       dtype=tf.dtypes.float32,\n",
    "                                       name='commands_input')\n",
    "circuits_input = tf.keras.Input(shape=(),\n",
    "                                # The circuit-tensor has dtype `tf.string` \n",
    "                                dtype=tf.dtypes.string,\n",
    "                                name='circuits_input')\n",
    "operators_input = tf.keras.Input(shape=(1,),\n",
    "                                 dtype=tf.dtypes.string,\n",
    "                                 name='operators_input')"
   ]
  },
  {
   "cell_type": "code",
   "execution_count": 28,
   "metadata": {},
   "outputs": [],
   "source": [
    "# Define classical NN.\n",
    "controller = tf.keras.Sequential([\n",
    "    tf.keras.layers.Dense(10, activation='elu'),\n",
    "    tf.keras.layers.Dense(3)\n",
    "])"
   ]
  },
  {
   "cell_type": "code",
   "execution_count": 29,
   "metadata": {},
   "outputs": [],
   "source": [
    "dense_2 = controller(commands_input)\n",
    "\n",
    "# Since you aren't using a PQC or ControlledPQC you must append\n",
    "# your model circuit onto the datapoint circuit tensor manually.\n",
    "full_circuit = tfq.layers.AddCircuit()(circuits_input, append=model_circuit)\n",
    "expectation_output = tfq.layers.Expectation()(full_circuit,\n",
    "                                              symbol_names=control_params,\n",
    "                                              symbol_values=dense_2,\n",
    "                                              operators=operators_input)\n",
    "\n",
    "# Contruct your Keras model.\n",
    "two_axis_control_model = tf.keras.Model(\n",
    "    inputs=[circuits_input, commands_input, operators_input],\n",
    "    outputs=[expectation_output])"
   ]
  },
  {
   "cell_type": "markdown",
   "metadata": {},
   "source": [
    "### The dataset"
   ]
  },
  {
   "cell_type": "code",
   "execution_count": 30,
   "metadata": {},
   "outputs": [],
   "source": [
    "# The operators to measure, for each command.\n",
    "operator_data = tfq.convert_to_tensor([[cirq.X(qubit)], [cirq.Z(qubit)]])\n",
    "\n",
    "# The command input values to the classical NN.\n",
    "commands = np.array([[0], [1]], dtype=np.float32)\n",
    "\n",
    "# The desired expectation value at output of quantum circuit.\n",
    "expected_outputs = np.array([[1], [-1]], dtype=np.float32)"
   ]
  },
  {
   "cell_type": "markdown",
   "metadata": {},
   "source": [
    "### Training"
   ]
  },
  {
   "cell_type": "code",
   "execution_count": 31,
   "metadata": {},
   "outputs": [
    {
     "name": "stdout",
     "output_type": "stream",
     "text": [
      "Train on 2 samples\n",
      "Epoch 1/30\n",
      "2/2 [==============================] - 1s 293ms/sample - loss: 1.3097\n",
      "Epoch 2/30\n",
      "2/2 [==============================] - 0s 1ms/sample - loss: 0.9362\n",
      "Epoch 3/30\n",
      "2/2 [==============================] - 0s 1ms/sample - loss: 0.5553\n",
      "Epoch 4/30\n",
      "2/2 [==============================] - 0s 1ms/sample - loss: 0.2600\n",
      "Epoch 5/30\n",
      "2/2 [==============================] - 0s 1ms/sample - loss: 0.1199\n",
      "Epoch 6/30\n",
      "2/2 [==============================] - 0s 1ms/sample - loss: 0.0929\n",
      "Epoch 7/30\n",
      "2/2 [==============================] - 0s 1ms/sample - loss: 0.1186\n",
      "Epoch 8/30\n",
      "2/2 [==============================] - 0s 2ms/sample - loss: 0.1770\n",
      "Epoch 9/30\n",
      "2/2 [==============================] - 0s 1ms/sample - loss: 0.2077\n",
      "Epoch 10/30\n",
      "2/2 [==============================] - 0s 2ms/sample - loss: 0.1858\n",
      "Epoch 11/30\n",
      "2/2 [==============================] - 0s 1ms/sample - loss: 0.1315\n",
      "Epoch 12/30\n",
      "2/2 [==============================] - 0s 1ms/sample - loss: 0.0747\n",
      "Epoch 13/30\n",
      "2/2 [==============================] - 0s 2ms/sample - loss: 0.0368\n",
      "Epoch 14/30\n",
      "2/2 [==============================] - 0s 2ms/sample - loss: 0.0216\n",
      "Epoch 15/30\n",
      "2/2 [==============================] - 0s 1ms/sample - loss: 0.0224\n",
      "Epoch 16/30\n",
      "2/2 [==============================] - 0s 1ms/sample - loss: 0.0230\n",
      "Epoch 17/30\n",
      "2/2 [==============================] - 0s 2ms/sample - loss: 0.0166\n",
      "Epoch 18/30\n",
      "2/2 [==============================] - 0s 2ms/sample - loss: 0.0108\n",
      "Epoch 19/30\n",
      "2/2 [==============================] - 0s 1ms/sample - loss: 0.0087\n",
      "Epoch 20/30\n",
      "2/2 [==============================] - 0s 1ms/sample - loss: 0.0073\n",
      "Epoch 21/30\n",
      "2/2 [==============================] - 0s 1ms/sample - loss: 0.0044\n",
      "Epoch 22/30\n",
      "2/2 [==============================] - 0s 1ms/sample - loss: 0.0020\n",
      "Epoch 23/30\n",
      "2/2 [==============================] - 0s 1ms/sample - loss: 0.0012\n",
      "Epoch 24/30\n",
      "2/2 [==============================] - 0s 1ms/sample - loss: 0.0013\n",
      "Epoch 25/30\n",
      "2/2 [==============================] - 0s 1ms/sample - loss: 0.0016\n",
      "Epoch 26/30\n",
      "2/2 [==============================] - 0s 1ms/sample - loss: 0.0019\n",
      "Epoch 27/30\n",
      "2/2 [==============================] - 0s 2ms/sample - loss: 0.0021\n",
      "Epoch 28/30\n",
      "2/2 [==============================] - 0s 2ms/sample - loss: 0.0020\n",
      "Epoch 29/30\n",
      "2/2 [==============================] - 0s 2ms/sample - loss: 0.0017\n",
      "Epoch 30/30\n",
      "2/2 [==============================] - 0s 3ms/sample - loss: 0.0013\n"
     ]
    }
   ],
   "source": [
    "optimizer = tf.keras.optimizers.Adam(learning_rate=0.05)\n",
    "loss = tf.keras.losses.MeanSquaredError()\n",
    "\n",
    "two_axis_control_model.compile(optimizer=optimizer, loss=loss)\n",
    "\n",
    "history = two_axis_control_model.fit(\n",
    "    x=[datapoint_circuits, commands, operator_data],\n",
    "    y=expected_outputs,\n",
    "    epochs=30,\n",
    "    verbose=1)"
   ]
  },
  {
   "cell_type": "code",
   "execution_count": 32,
   "metadata": {},
   "outputs": [
    {
     "data": {
      "image/png": "[encoded data removed]",
      "text/plain": [
       "<Figure size 432x288 with 1 Axes>"
      ]
     },
     "metadata": {},
     "output_type": "display_data"
    }
   ],
   "source": [
    "plt.plot(history.history['loss'])\n",
    "plt.title(\"Learning to Control a Qubit\")\n",
    "plt.xlabel(\"Iterations\")\n",
    "plt.ylabel(\"Error in Control\")\n",
    "plt.show()"
   ]
  },
  {
   "cell_type": "code",
   "execution_count": 35,
   "metadata": {},
   "outputs": [
    {
     "data": {
      "text/plain": [
       "array([[ 2.679348  , -0.4228346 ,  0.36209983],\n",
       "       [ 3.813424  , -2.719168  ,  3.995017  ]], dtype=float32)"
      ]
     },
     "execution_count": 35,
     "metadata": {},
     "output_type": "execute_result"
    }
   ],
   "source": [
    "controller.predict(np.array([0,1]))"
   ]
  },
  {
   "cell_type": "code",
   "execution_count": null,
   "metadata": {},
   "outputs": [],
   "source": []
  }
 ],
 "metadata": {
  "kernelspec": {
   "display_name": "Python 3",
   "language": "python",
   "name": "python3"
  },
  "language_info": {
   "codemirror_mode": {
    "name": "ipython",
    "version": 3
   },
   "file_extension": ".py",
   "mimetype": "text/x-python",
   "name": "python",
   "nbconvert_exporter": "python",
   "pygments_lexer": "ipython3",
   "version": "3.7.6"
  }
 },
 "nbformat": 4,
 "nbformat_minor": 4
}
