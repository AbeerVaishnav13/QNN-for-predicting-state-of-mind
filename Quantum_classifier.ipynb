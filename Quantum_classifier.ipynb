{
 "cells": [
  {
   "cell_type": "code",
   "execution_count": 15,
   "metadata": {},
   "outputs": [],
   "source": [
    "import pennylane as qml\n",
    "from pennylane import numpy as np\n",
    "from pennylane.optimize import NesterovMomentumOptimizer\n",
    "\n",
    "import pandas as pd\n",
    "import glob as glob\n",
    "\n",
    "len_delta = 38\n",
    "len_theta = 38\n",
    "len_alpha = 70\n",
    "len_beta = 133\n",
    "len_gamma = 259\n",
    "\n",
    "idx_delta = 4\n",
    "idx_theta = 3\n",
    "idx_alpha = 2\n",
    "idx_beta = 1\n",
    "idx_gamma = 0"
   ]
  },
  {
   "cell_type": "code",
   "execution_count": 16,
   "metadata": {},
   "outputs": [],
   "source": [
    "def layer(W, num_wires):\n",
    "    for i in range(num_wires):\n",
    "        qml.Rot(W[i, 0], W[i, 1], W[i, 2], wires=i)\n",
    "        \n",
    "    for j in range(num_wires):\n",
    "        if j != num_wires-1:\n",
    "            qml.CNOT(wires=[j, j+1])\n",
    "        else:\n",
    "            qml.CNOT(j, 0)"
   ]
  },
  {
   "cell_type": "code",
   "execution_count": 55,
   "metadata": {},
   "outputs": [],
   "source": [
    "def get_raw_angles(x, num_wires):\n",
    "    angles = []\n",
    "    \n",
    "    squared_sum = lambda input_arr: sum([d**2 for d in input_arr])\n",
    "    \n",
    "    for k in range(num_wires):\n",
    "        ang_k = []\n",
    "        for j in range(2**(num_wires-k-1)):\n",
    "            num_idx = (2*j+1)*(2**k)\n",
    "            den_idx = j*(2**(k+1))\n",
    "            ang = 2 * np.arcsin(np.sqrt(squared_sum(x[num_idx : num_idx+(2**k-1)+1])) / np.sqrt(squared_sum(x[den_idx : den_idx+2**(k+1)]) + 1e-12))\n",
    "            ang_k.append(ang)\n",
    "            \n",
    "        angles.insert(0, ang_k)\n",
    "            \n",
    "    return angles"
   ]
  },
  {
   "cell_type": "code",
   "execution_count": 58,
   "metadata": {},
   "outputs": [
    {
     "name": "stdout",
     "output_type": "stream",
     "text": [
      "[[0.5639746511205705], [1.9500920812754716, 0.0]]\n"
     ]
    },
    {
     "data": {
      "text/plain": [
       "array([0.56397465])"
      ]
     },
     "execution_count": 58,
     "metadata": {},
     "output_type": "execute_result"
    }
   ],
   "source": [
    "# TODO: Implement:-\n",
    "# 1. Gray code\n",
    "# 2. Alpha angle to theta angle tranformation (Not sure?)\n",
    "\n",
    "def get_angles(x):\n",
    "    num_wires = int(np.log(len(x)) / np.log(2))\n",
    "    raw_ang = get_raw_angles(x, num_wires)\n",
    "    angles = []\n",
    "    print(raw_ang)\n",
    "    \n",
    "    angles.append(raw_ang[0][0])\n",
    "    \n",
    "    for i in range(num_wires-1, 0, -1):\n",
    "        for a in raw_ang[i]:\n",
    "            pass\n",
    "            \n",
    "            \n",
    "    return np.array(angles)\n",
    "\n",
    "\n",
    "\n",
    "x = np.array([0.53896774, 0.79503606, 0.27826503, 0.0])\n",
    "get_angles(x)"
   ]
  },
  {
   "cell_type": "code",
   "execution_count": 19,
   "metadata": {},
   "outputs": [],
   "source": [
    "def create_ctrl_rot(num_wires):\n",
    "    if num_wires == 2:\n",
    "        return [num_wires-1, num_wires-1]\n",
    "    else:\n",
    "        ctrl_idxs = create_ctrl_rot(num_wires-1)\n",
    "        ctrl_idxs[-1] += 1\n",
    "        return ctrl_idxs + ctrl_idxs"
   ]
  },
  {
   "cell_type": "code",
   "execution_count": 20,
   "metadata": {},
   "outputs": [],
   "source": [
    "def UCRy(angles, wires):\n",
    "    num_ctrl_rot = 2 ** len(wires) - 1\n",
    "    num_repetitions = len(wires)-1\n",
    "    ctrl_idxs = [len(wires)-i-1 for i in create_ctrl_rot(len(wires))]\n",
    "    \n",
    "    i = 0\n",
    "    for idx in ctrl_idxs:\n",
    "        qml.RY(angles[i], wires=wires[-1])\n",
    "        qml.CNOT(wires=[idx, wires[-1]])\n",
    "        i += 1"
   ]
  },
  {
   "cell_type": "code",
   "execution_count": 21,
   "metadata": {},
   "outputs": [],
   "source": [
    "def XUCRy(angles, wires):\n",
    "    for i in wires[:-1]:\n",
    "        qml.PauliX(wires=i)\n",
    "        \n",
    "    UCRy(angles, wires)\n",
    "    \n",
    "    for i in wires[:-1]:\n",
    "        qml.PauliX(wires=i)"
   ]
  },
  {
   "cell_type": "code",
   "execution_count": 23,
   "metadata": {},
   "outputs": [],
   "source": [
    "def statePreparation(a, num_wires):\n",
    "    idx = 1\n",
    "    for i in range(num_wires):\n",
    "        if i == (len(a)//2)+1:\n",
    "            qml.RY(a[i], wires=i)\n",
    "        else:\n",
    "            wires = [num for num in range(num_wires-i+1)]\n",
    "            UCRy(a[idx : (idx+(2**(num_wires-i)))], wires)\n",
    "            idx += (2**(num_wires-i))\n",
    "\n",
    "    \n",
    "    for i in range(num_wires-1, 0, -1):\n",
    "        wires = [num for num in range(num_wires-i+1)]\n",
    "        XUCRy(a[idx : (idx+(2**(num_wires-i)))], wires)\n",
    "        idx += (2**(num_wires-i))"
   ]
  },
  {
   "cell_type": "code",
   "execution_count": 24,
   "metadata": {},
   "outputs": [],
   "source": [
    "def normalize(list_data):\n",
    "    for i in range(2):\n",
    "        mu = list_data[i].mean()\n",
    "        sigma = list_data[i].std()\n",
    "        \n",
    "        list_data[i] = (list_data[i] - mu) / sigma\n",
    "        for j in range(len(list_data[i])):\n",
    "            if list_data[i][j] > 2:\n",
    "                list_data[i][j] = 2\n",
    "            elif list_data[i][j] < -2:\n",
    "                list_data[i][j] = -2\n",
    "                \n",
    "        list_data[i] = (list_data[i] / 5) + 0.5\n",
    "            \n",
    "    return list_data"
   ]
  },
  {
   "cell_type": "code",
   "execution_count": 26,
   "metadata": {},
   "outputs": [
    {
     "name": "stdout",
     "output_type": "stream",
     "text": [
      "1 2 0 2\n",
      "3 4 2 4\n",
      "2 4 0 4\n",
      "x               :  [0.53896774 0.79503606 0.27826503 0.        ]\n",
      "angles          :  [ 0.56397465  0.         -0.          0.97504604 -0.97504604]\n",
      "amplitude vector:  [5.38967743e-01 7.95036065e-01 2.78265032e-01 9.59954909e-18]\n"
     ]
    }
   ],
   "source": [
    "# files = glob.glob('./DWT_TextDump/*/*.txt')\n",
    "# data = pd.read_csv(files[0], delimiter='\\t', header=None)\n",
    "\n",
    "# list_data = [np.asanyarray(data[3])[:32], np.asanyarray(data[4])[:32]]\n",
    "\n",
    "# norm_data = normalize(list_data)\n",
    "\n",
    "# x = norm_data[0] # Load theta wave values\n",
    "x = np.array([0.53896774, 0.79503606, 0.27826503, 0.0])\n",
    "ang = get_angles(x)\n",
    "\n",
    "# num_qubits = int(np.log(len(norm_data[0]))/np.log(2))\n",
    "num_qubits=2\n",
    "\n",
    "dev = qml.device('default.qubit', wires=num_qubits)\n",
    "\n",
    "@qml.qnode(dev)\n",
    "def test(angles=None):\n",
    "    statePreparation(angles, num_qubits)\n",
    "    return qml.expval(qml.PauliZ(0))\n",
    "\n",
    "test(angles=ang)\n",
    "\n",
    "print(\"x               : \", x)\n",
    "print(\"angles          : \", ang)\n",
    "print(\"amplitude vector: \", np.real(dev._state))"
   ]
  },
  {
   "cell_type": "code",
   "execution_count": null,
   "metadata": {},
   "outputs": [],
   "source": []
  }
 ],
 "metadata": {
  "kernelspec": {
   "display_name": "Python 3",
   "language": "python",
   "name": "python3"
  },
  "language_info": {
   "codemirror_mode": {
    "name": "ipython",
    "version": 3
   },
   "file_extension": ".py",
   "mimetype": "text/x-python",
   "name": "python",
   "nbconvert_exporter": "python",
   "pygments_lexer": "ipython3",
   "version": "3.7.6"
  }
 },
 "nbformat": 4,
 "nbformat_minor": 4
}
